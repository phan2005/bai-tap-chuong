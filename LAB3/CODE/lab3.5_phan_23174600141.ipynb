{
 "cells": [
  {
   "cell_type": "code",
   "execution_count": 8,
   "metadata": {},
   "outputs": [
    {
     "name": "stdout",
     "output_type": "stream",
     "text": [
      "5 ngày đầu tiên của kết quả tính giá trị trung bình: \n",
      "                    open      high      low    close    volume\n",
      "date     symbol                                               \n",
      "01-03-19 AAPL     174.28   175.150   172.89   174.97  25886167\n",
      "         AMZN    1655.13  1674.260  1651.00  1671.73   4974877\n",
      "         FB       162.60   163.132   161.69   162.28  11097770\n",
      "         GOOG    1124.90  1142.970  1124.75  1140.99   1450316\n",
      "         TSLA     306.94   307.130   291.90   294.79  22911375\n"
     ]
    }
   ],
   "source": [
    "import pandas as pd \n",
    "stocks1_path= \"D:\\\\17A3KHDL\\\\LAB3\\\\DATA\\\\stocks1.csv\"\n",
    "stocks1=pd.read_csv(stocks1_path)\n",
    "stocks2_path=\"D:\\\\17A3KHDL\\\\LAB3\\\\DATA\\\\stocks2.csv\"\n",
    "stocks2=pd.read_csv(stocks2_path)\n",
    "stocks=pd.concat([stocks1, stocks2], ignore_index=True)\n",
    "stocks.set_index(['date', 'symbol'], inplace=True)\n",
    "stocks_trung_binh=stocks.groupby(['date', 'symbol'])[['open', 'high', 'low', 'close', 'volume' ]].mean()\n",
    "stocks_trung_binh=stocks_trung_binh.sort_index()\n",
    "print(\"5 ngày đầu tiên của kết quả tính giá trị trung bình: \")\n",
    "print(stocks_trung_binh.head())"
   ]
  }
 ],
 "metadata": {
  "kernelspec": {
   "display_name": "Python 3",
   "language": "python",
   "name": "python3"
  },
  "language_info": {
   "codemirror_mode": {
    "name": "ipython",
    "version": 3
   },
   "file_extension": ".py",
   "mimetype": "text/x-python",
   "name": "python",
   "nbconvert_exporter": "python",
   "pygments_lexer": "ipython3",
   "version": "3.6.8rc1"
  }
 },
 "nbformat": 4,
 "nbformat_minor": 2
}
