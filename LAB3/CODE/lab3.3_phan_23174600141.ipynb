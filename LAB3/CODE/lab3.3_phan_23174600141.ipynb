{
 "cells": [
  {
   "cell_type": "code",
   "execution_count": 11,
   "metadata": {},
   "outputs": [],
   "source": [
    "import pandas as pd \n",
    "stocks2_path= \"D:\\\\17A3KHDL\\\\LAB3\\\\DATA\\\\stocks2.csv\"\n",
    "stocks2=pd.read_csv(stocks2_path)"
   ]
  },
  {
   "cell_type": "code",
   "execution_count": 13,
   "metadata": {},
   "outputs": [
    {
     "name": "stdout",
     "output_type": "stream",
     "text": [
      "5 dòng đầu tiên của kết quả tính giá trị trung bình: \n",
      "             open       high       low    close\n",
      "date                                           \n",
      "01-03-19  684.770  692.52840  680.4460  688.952\n",
      "04-03-19  693.940  702.39200  685.1260  694.510\n",
      "05-03-19  695.664  584.92000  575.0500  695.558\n",
      "06-03-19  696.502  449.53395  443.7725  690.016\n",
      "07-03-19  689.460  691.47800  673.8600  677.494\n"
     ]
    }
   ],
   "source": [
    "stocks1_path= \"D:\\\\17A3KHDL\\\\LAB3\\\\DATA\\\\stocks1.csv\"\n",
    "stocks1=pd.read_csv(stocks1_path)\n",
    "stocks=pd.concat([stocks1, stocks2], ignore_index=True)\n",
    "stocks_trung_binh=stocks.groupby('date')[['open', 'high', 'low', 'close' ]].mean()\n",
    "print(\"5 dòng đầu tiên của kết quả tính giá trị trung bình: \")\n",
    "print(stocks_trung_binh.head())\n",
    "\n"
   ]
  }
 ],
 "metadata": {
  "kernelspec": {
   "display_name": "Python 3",
   "language": "python",
   "name": "python3"
  },
  "language_info": {
   "codemirror_mode": {
    "name": "ipython",
    "version": 3
   },
   "file_extension": ".py",
   "mimetype": "text/x-python",
   "name": "python",
   "nbconvert_exporter": "python",
   "pygments_lexer": "ipython3",
   "version": "3.6.8rc1"
  }
 },
 "nbformat": 4,
 "nbformat_minor": 2
}
