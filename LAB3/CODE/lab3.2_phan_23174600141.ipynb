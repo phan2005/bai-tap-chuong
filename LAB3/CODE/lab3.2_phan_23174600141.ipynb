{
 "cells": [
  {
   "cell_type": "code",
   "execution_count": 6,
   "metadata": {},
   "outputs": [
    {
     "name": "stdout",
     "output_type": "stream",
     "text": [
      "Kiểm tra dữ liệu Null trong stocks1: \n",
      "date      0\n",
      "symbol    0\n",
      "open      0\n",
      "high      2\n",
      "low       2\n",
      "close     0\n",
      "volume    0\n",
      "dtype: int64\n",
      "Thông tin tổng quan sau khi thay thế dữu liệu Null: \n",
      "<class 'pandas.core.frame.DataFrame'>\n",
      "RangeIndex: 15 entries, 0 to 14\n",
      "Data columns (total 7 columns):\n",
      " #   Column  Non-Null Count  Dtype  \n",
      "---  ------  --------------  -----  \n",
      " 0   date    15 non-null     object \n",
      " 1   symbol  15 non-null     object \n",
      " 2   open    15 non-null     float64\n",
      " 3   high    15 non-null     float64\n",
      " 4   low     15 non-null     float64\n",
      " 5   close   15 non-null     float64\n",
      " 6   volume  15 non-null     int64  \n",
      "dtypes: float64(4), int64(1), object(2)\n",
      "memory usage: 968.0+ bytes\n"
     ]
    }
   ],
   "source": [
    "import pandas as pd \n",
    "stocks1_path='D:\\\\17A3KHDL\\\\LAB3\\\\DATA\\\\stocks1.csv'\n",
    "stocks1=pd.read_csv(stocks1_path)\n",
    "print(\"Kiểm tra dữ liệu Null trong stocks1: \")\n",
    "print(stocks1.isnull().sum())\n",
    "stocks1['high'].fillna(stocks1['high'].mean(), inplace=True)\n",
    "stocks1['low'].fillna(stocks1['low'].mean(), inplace=True)\n",
    "print(\"Thông tin tổng quan sau khi thay thế dữu liệu Null: \")\n",
    "stocks1.info()\n"
   ]
  }
 ],
 "metadata": {
  "kernelspec": {
   "display_name": "Python 3",
   "language": "python",
   "name": "python3"
  },
  "language_info": {
   "codemirror_mode": {
    "name": "ipython",
    "version": 3
   },
   "file_extension": ".py",
   "mimetype": "text/x-python",
   "name": "python",
   "nbconvert_exporter": "python",
   "pygments_lexer": "ipython3",
   "version": "3.6.8rc1"
  }
 },
 "nbformat": 4,
 "nbformat_minor": 2
}
