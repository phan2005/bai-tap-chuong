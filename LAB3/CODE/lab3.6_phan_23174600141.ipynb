{
 "cells": [
  {
   "cell_type": "code",
   "execution_count": 3,
   "metadata": {},
   "outputs": [
    {
     "name": "stdout",
     "output_type": "stream",
     "text": [
      "5 mã chứng khoán có tổng volume giao dịch cao nhất: \n",
      "symbol      tong_volume\n",
      "date                   \n",
      "2019-03-01    118666547\n",
      "2019-03-05     98018576\n",
      "2019-03-07     78550901\n",
      "2019-03-04     23776775\n",
      "2019-03-06      6605385\n"
     ]
    }
   ],
   "source": [
    "import pandas as pd \n",
    "stocks1_path=\"D:\\\\17A3KHDL\\\\LAB3\\\\DATA\\\\stocks1.csv\"\n",
    "stocks1=pd.read_csv(stocks1_path)\n",
    "stocks2_path=\"D:\\\\17A3KHDL\\\\LAB3\\\\DATA\\\\stocks2.csv\"\n",
    "stocks2=pd.read_csv(stocks2_path)\n",
    "stocks=pd.concat([stocks1, stocks2], ignore_index=True)\n",
    "stocks['date']=pd.to_datetime(stocks['date'], format='%d-%m-%y')\n",
    "pivot_table=pd.pivot_table(stocks,\n",
    "                           values='close',\n",
    "                           index='date',\n",
    "                           columns='symbol',\n",
    "                           aggfunc='mean')\n",
    "tong_volume=stocks.groupby('symbol')['volume'].sum()\n",
    "pivot_table['tong_volume']=pivot_table.columns.map(tong_volume)\n",
    "sap_xep_pivot_table=pivot_table.sort_values('tong_volume', ascending=False )\n",
    "print(\"5 mã chứng khoán có tổng volume giao dịch cao nhất: \")\n",
    "print(sap_xep_pivot_table[['tong_volume']].head())\n"
   ]
  }
 ],
 "metadata": {
  "kernelspec": {
   "display_name": "Python 3",
   "language": "python",
   "name": "python3"
  },
  "language_info": {
   "codemirror_mode": {
    "name": "ipython",
    "version": 3
   },
   "file_extension": ".py",
   "mimetype": "text/x-python",
   "name": "python",
   "nbconvert_exporter": "python",
   "pygments_lexer": "ipython3",
   "version": "3.6.8rc1"
  }
 },
 "nbformat": 4,
 "nbformat_minor": 2
}
