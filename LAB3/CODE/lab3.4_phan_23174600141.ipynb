{
 "cells": [
  {
   "cell_type": "code",
   "execution_count": 6,
   "metadata": {},
   "outputs": [
    {
     "name": "stdout",
     "output_type": "stream",
     "text": [
      "5 dòng đầu tiên của companies: \n",
      "   name  employees headquarters_city headquarters_state\n",
      "0  AMZN     613300           Seattle                 WA\n",
      "1  GOOG      98771     Mountain View                 CA\n",
      "2  AAPL     132000         Cupertino                 CA\n",
      "3    FB      48268        Menlo Park                 CA\n",
      "4  TSLA      48016         Palo Alto                 CA\n"
     ]
    }
   ],
   "source": [
    "import pandas as pd\n",
    "stocks2_path= \"D:\\\\17A3KHDL\\\\LAB3\\\\DATA\\\\stocks2.csv\"\n",
    "stocks2=pd.read_csv(stocks2_path)\n",
    "stocks1_path= \"D:\\\\17A3KHDL\\\\LAB3\\\\DATA\\\\stocks1.csv\"\n",
    "stocks1=pd.read_csv(stocks1_path)\n",
    "stocks=pd.concat([stocks1, stocks2], ignore_index=True)\n",
    "companies_path=\"D:\\\\17A3KHDL\\\\LAB3\\\\DATA\\\\companies.csv\"\n",
    "companies=pd.read_csv(companies_path)\n",
    "print(\"5 dòng đầu tiên của companies: \")\n",
    "print(companies.head())\n",
    "\n",
    "\n"
   ]
  }
 ],
 "metadata": {
  "kernelspec": {
   "display_name": "Python 3",
   "language": "python",
   "name": "python3"
  },
  "language_info": {
   "codemirror_mode": {
    "name": "ipython",
    "version": 3
   },
   "file_extension": ".py",
   "mimetype": "text/x-python",
   "name": "python",
   "nbconvert_exporter": "python",
   "pygments_lexer": "ipython3",
   "version": "3.6.8rc1"
  }
 },
 "nbformat": 4,
 "nbformat_minor": 2
}
