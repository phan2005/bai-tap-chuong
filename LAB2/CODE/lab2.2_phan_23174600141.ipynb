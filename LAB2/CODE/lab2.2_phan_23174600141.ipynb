{
 "cells": [
  {
   "cell_type": "code",
   "execution_count": 22,
   "metadata": {},
   "outputs": [
    {
     "name": "stdout",
     "output_type": "stream",
     "text": [
      "Dữ liệu điểm số: \n",
      "[[3.04 3.39 6.7 ]\n",
      " [5.8  6.41 6.62]\n",
      " [2.59 3.57 9.16]\n",
      " [3.81 8.78 9.24]\n",
      " [8.91 9.64 6.39]\n",
      " [3.23 4.72 6.17]\n",
      " [2.35 3.29 6.89]\n",
      " [2.48 3.81 4.84]\n",
      " [3.23 2.61 4.52]\n",
      " [7.02 9.01 9.15]\n",
      " [2.29 4.48 5.51]\n",
      " [3.51 7.19 5.13]\n",
      " [6.74 7.78 6.19]\n",
      " [9.86 4.64 3.33]\n",
      " [8.04 5.12 4.77]\n",
      " [2.74 8.88 5.8 ]\n",
      " [3.04 6.88 3.91]\n",
      " [5.87 4.41 8.84]\n",
      " [8.46 2.63 4.91]\n",
      " [3.74 6.71 3.44]\n",
      " [5.67 8.05 6.03]\n",
      " [8.12 2.46 3.87]\n",
      " [9.4  5.31 5.13]\n",
      " [3.91 5.09 8.82]\n",
      " [4.26 5.78 8.14]\n",
      " [4.41 2.66 5.4 ]\n",
      " [3.23 8.3  8.64]\n",
      " [9.25 8.29 9.1 ]\n",
      " [6.08 2.67 6.39]\n",
      " [3.85 7.71 5.75]]\n"
     ]
    }
   ],
   "source": [
    "#1\n",
    "import numpy as np \n",
    "import csv \n",
    "file_path='D:\\\\17A3KHDL\\\\LAB2\\\\DATA\\\\diem_hoc_phan.csv'\n",
    "data=[]\n",
    "with open(file_path, 'r', encoding='utf-8') as f:\n",
    "    reader=csv.reader(f)\n",
    "    header=next(reader)\n",
    "    for row in reader:\n",
    "        data.append(row)\n",
    "diem_sinh_vien=np.array(data)[:, 2:].astype(float)\n",
    "print(\"Dữ liệu điểm số: \")\n",
    "print(diem_sinh_vien)\n"
   ]
  },
  {
   "cell_type": "code",
   "execution_count": 21,
   "metadata": {},
   "outputs": [
    {
     "name": "stdout",
     "output_type": "stream",
     "text": [
      "Điểm chữ của sinh viên: \n",
      "[['F' 'F' 'C+']\n",
      " ['C' 'F' 'C+']\n",
      " ['F' 'F' 'A']\n",
      " ['F' 'A' 'A']\n",
      " ['A' 'A' 'F']\n",
      " ['F' 'D' 'F']\n",
      " ['F' 'F' 'C+']\n",
      " ['F' 'F' 'D']\n",
      " ['F' 'F' 'D']\n",
      " ['B' 'A' 'A']\n",
      " ['F' 'D' 'C']\n",
      " ['F' 'B' 'D+']\n",
      " ['C+' 'B' 'F']\n",
      " ['A' 'D' 'F']\n",
      " ['B+' 'D+' 'D']\n",
      " ['F' 'A' 'C']\n",
      " ['F' 'C+' 'F']\n",
      " ['C' 'D' 'A']\n",
      " ['F' 'F' 'D']\n",
      " ['F' 'C+' 'F']\n",
      " ['C' 'B+' 'F']\n",
      " ['B+' 'F' 'F']\n",
      " ['A' 'D+' 'D+']\n",
      " ['F' 'D+' 'A']\n",
      " ['D' 'C' 'B+']\n",
      " ['D' 'F' 'D+']\n",
      " ['F' 'B+' 'A']\n",
      " ['A' 'B+' 'A']\n",
      " ['F' 'F' 'F']\n",
      " ['F' 'B' 'C']]\n"
     ]
    }
   ],
   "source": [
    "def quy_doi_diem(diem):\n",
    "    if 8.5<=diem<=10:\n",
    "        return 'A' \n",
    "    elif 8.0<=diem<=8.4:\n",
    "        return'B+' \n",
    "    elif 7.0<=diem<8:\n",
    "        return'B' \n",
    "    elif 6.5<=diem<7:\n",
    "        return'C+' \n",
    "    elif 5.5<=diem<6:\n",
    "        return'C' \n",
    "    elif 5.0<=diem<5.5:\n",
    "        return'D+' \n",
    "    elif 4.0<=diem<5:\n",
    "        return'D'\n",
    "    else:\n",
    "        return'F' \n",
    "diem_chu=np.vectorize(quy_doi_diem)(diem_sinh_vien)\n",
    "print(\"Điểm chữ của sinh viên: \")\n",
    "print(diem_chu)"
   ]
  },
  {
   "cell_type": "code",
   "execution_count": 15,
   "metadata": {},
   "outputs": [
    {
     "name": "stdout",
     "output_type": "stream",
     "text": [
      "Điểm học phần 1: \n",
      "[3.04 5.8  2.59 3.81 8.91 3.23 2.35 2.48 3.23 7.02 2.29 3.51 6.74 9.86\n",
      " 8.04 2.74 3.04 5.87 8.46 3.74 5.67 8.12 9.4  3.91 4.26 4.41 3.23 9.25\n",
      " 6.08 3.85]\n",
      "Điểm học phần 2: \n",
      "[3.39 6.41 3.57 8.78 9.64 4.72 3.29 3.81 2.61 9.01 4.48 7.19 7.78 4.64\n",
      " 5.12 8.88 6.88 4.41 2.63 6.71 8.05 2.46 5.31 5.09 5.78 2.66 8.3  8.29\n",
      " 2.67 7.71]\n",
      "Điểm học phần 3: \n",
      "[6.7  6.62 9.16 9.24 6.39 6.17 6.89 4.84 4.52 9.15 5.51 5.13 6.19 3.33\n",
      " 4.77 5.8  3.91 8.84 4.91 3.44 6.03 3.87 5.13 8.82 8.14 5.4  8.64 9.1\n",
      " 6.39 5.75]\n"
     ]
    }
   ],
   "source": [
    "#3\n",
    "diem_hp1=diem_sinh_vien[:, 0]\n",
    "diem_hp2=diem_sinh_vien[:, 1]\n",
    "diem_hp3=diem_sinh_vien[:, 2]\n",
    "print(\"Điểm học phần 1: \")\n",
    "print(diem_hp1)\n",
    "print(\"Điểm học phần 2: \")\n",
    "print(diem_hp2)\n",
    "print(\"Điểm học phần 3: \")\n",
    "print(diem_hp3)\n"
   ]
  },
  {
   "cell_type": "code",
   "execution_count": 17,
   "metadata": {},
   "outputs": [
    {
     "name": "stdout",
     "output_type": "stream",
     "text": [
      "Phân tích: Học phần 1\n",
      "Tổng điểm: 154.93\n",
      "Điểm trung bình: 5.16\n",
      "Độ lệch chuẩn: 2.41\n",
      "Phân tích: Học phần 2\n",
      "Tổng điểm: 170.27\n",
      "Điểm trung bình: 5.68\n",
      "Độ lệch chuẩn: 2.25\n",
      "Phân tích: Học phần 3\n",
      "Tổng điểm: 188.78\n",
      "Điểm trung bình: 6.29\n",
      "Độ lệch chuẩn: 1.81\n"
     ]
    }
   ],
   "source": [
    "#4\n",
    "def phan_tich_diem(diem, ten_hoc_phan):\n",
    "    tong_diem=np.sum(diem)\n",
    "    diem_trung_binh=np.mean(diem)\n",
    "    do_lech_chuan=np.std(diem)\n",
    "    print(f\"Phân tích: {ten_hoc_phan}\")\n",
    "    print(f\"Tổng điểm: {tong_diem:.2f}\")\n",
    "    print(f\"Điểm trung bình: {diem_trung_binh:.2f}\")\n",
    "    print(f\"Độ lệch chuẩn: {do_lech_chuan:.2f}\")\n",
    "phan_tich_diem(diem_hp1, \"Học phần 1\")\n",
    "phan_tich_diem(diem_hp2, \"Học phần 2\")\n",
    "phan_tich_diem(diem_hp3, \"Học phần 3\")"
   ]
  },
  {
   "cell_type": "code",
   "execution_count": 24,
   "metadata": {},
   "outputs": [
    {
     "name": "stdout",
     "output_type": "stream",
     "text": [
      "Phân tích điểm tổng hợp: \n",
      "Số lượng sinh viên đạt điểmA: 15\n",
      "Số lượng sinh viên đạt điểmB: 4\n",
      "Số lượng sinh viên đạt điểmB+: 6\n",
      "Số lượng sinh viên đạt điểmC: 7\n",
      "Số lượng sinh viên đạt điểmC+: 6\n",
      "Số lượng sinh viên đạt điểmD: 10\n",
      "Số lượng sinh viên đạt điểmD+: 6\n",
      "Số lượng sinh viên đạt điểmF: 36\n"
     ]
    }
   ],
   "source": [
    "#5\n",
    "diem_chu_tong_hop=diem_chu.flatten()\n",
    "unique, counts=np.unique(diem_chu_tong_hop, return_counts=True)\n",
    "tong_ket_diem=dict(zip(unique, counts))\n",
    "print(\"Phân tích điểm tổng hợp: \")\n",
    "for diem, so_luong in tong_ket_diem.items():\n",
    "    print(f\"Số lượng sinh viên đạt điểm{diem}: {so_luong}\")"
   ]
  }
 ],
 "metadata": {
  "kernelspec": {
   "display_name": "Python 3",
   "language": "python",
   "name": "python3"
  },
  "language_info": {
   "codemirror_mode": {
    "name": "ipython",
    "version": 3
   },
   "file_extension": ".py",
   "mimetype": "text/x-python",
   "name": "python",
   "nbconvert_exporter": "python",
   "pygments_lexer": "ipython3",
   "version": "3.6.8"
  }
 },
 "nbformat": 4,
 "nbformat_minor": 2
}
