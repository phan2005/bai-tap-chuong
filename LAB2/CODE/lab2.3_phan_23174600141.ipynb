{
 "cells": [
  {
   "cell_type": "code",
   "execution_count": 2,
   "metadata": {},
   "outputs": [
    {
     "name": "stdout",
     "output_type": "stream",
     "text": [
      "Efficiency: [94, 97, 114, 117, 117, 59, 133, 71, 86, 137, 120, 138, 138, 62, 108, 115, 89, 137, 96, 138, 131, 87, 75, 127, 122, 59, 70, 130, 119, 129, 97, 114, 132, 149, 138, 99, 79, 69, 69, 64, 89, 82, 115, 59, 107, 82, 81, 124, 73, 85, 125, 105, 78, 84, 50, 50, 86, 103, 55, 88, 67, 129, 54, 92, 108, 81, 51, 115, 91, 107, 85, 61, 96, 132, 141, 50, 64, 149, 103, 62, 92, 134, 125, 118, 56, 118, 97, 53, 126, 102, 128, 65, 70, 149, 108, 73, 129, 63, 135, 98]\n",
      "Shifts: ['Afternoon', 'Afternoon', 'Afternoon', 'Morning', 'Afternoon', 'Night', 'Morning', 'Afternoon', 'Night', 'Morning', 'Night', 'Morning', 'Afternoon', 'Night', 'Night', 'Afternoon', 'Morning', 'Afternoon', 'Afternoon', 'Morning', 'Night', 'Night', 'Night', 'Night', 'Afternoon', 'Night', 'Night', 'Night', 'Night', 'Night', 'Morning', 'Afternoon', 'Night', 'Night', 'Afternoon', 'Night', 'Afternoon', 'Morning', 'Night', 'Night', 'Morning', 'Night', 'Morning', 'Morning', 'Night', 'Morning', 'Night', 'Night', 'Night', 'Morning', 'Morning', 'Morning', 'Afternoon', 'Night', 'Morning', 'Afternoon', 'Night', 'Night', 'Night', 'Afternoon', 'Morning', 'Morning', 'Morning', 'Morning', 'Night', 'Night', 'Morning', 'Morning', 'Morning', 'Afternoon', 'Night', 'Morning', 'Morning', 'Afternoon', 'Morning', 'Night', 'Afternoon', 'Afternoon', 'Afternoon', 'Morning', 'Morning', 'Morning', 'Afternoon', 'Afternoon', 'Night', 'Afternoon', 'Morning', 'Morning', 'Afternoon', 'Night', 'Afternoon', 'Afternoon', 'Afternoon', 'Morning', 'Morning', 'Morning', 'Afternoon', 'Night', 'Afternoon', 'Afternoon']\n"
     ]
    }
   ],
   "source": [
    "#1\n",
    "efficiency=[]\n",
    "shifts=[]\n",
    "file_path='D:\\\\17A3KHDL\\\\LAB2\\\\DATA\\\\efficiency.txt'\n",
    "with open(file_path, 'r') as f_eff:\n",
    "    for line in f_eff:\n",
    "        efficiency.append(int(line.strip()))\n",
    "file_path='D:\\\\17A3KHDL\\\\LAB2\\\\DATA\\\\shifts.txt'\n",
    "with open(file_path, 'r') as f_shifts:\n",
    "    for line in f_shifts:\n",
    "        shifts.append(line.strip())\n",
    "print(\"Efficiency:\", efficiency)\n",
    "print(\"Shifts:\", shifts)"
   ]
  },
  {
   "cell_type": "code",
   "execution_count": 3,
   "metadata": {},
   "outputs": [
    {
     "name": "stdout",
     "output_type": "stream",
     "text": [
      "Kiểu dữ liệu của np_shifts: <U9\n",
      "['Afternoon' 'Afternoon' 'Afternoon' 'Morning' 'Afternoon' 'Night'\n",
      " 'Morning' 'Afternoon' 'Night' 'Morning' 'Night' 'Morning' 'Afternoon'\n",
      " 'Night' 'Night' 'Afternoon' 'Morning' 'Afternoon' 'Afternoon' 'Morning'\n",
      " 'Night' 'Night' 'Night' 'Night' 'Afternoon' 'Night' 'Night' 'Night'\n",
      " 'Night' 'Night' 'Morning' 'Afternoon' 'Night' 'Night' 'Afternoon' 'Night'\n",
      " 'Afternoon' 'Morning' 'Night' 'Night' 'Morning' 'Night' 'Morning'\n",
      " 'Morning' 'Night' 'Morning' 'Night' 'Night' 'Night' 'Morning' 'Morning'\n",
      " 'Morning' 'Afternoon' 'Night' 'Morning' 'Afternoon' 'Night' 'Night'\n",
      " 'Night' 'Afternoon' 'Morning' 'Morning' 'Morning' 'Morning' 'Night'\n",
      " 'Night' 'Morning' 'Morning' 'Morning' 'Afternoon' 'Night' 'Morning'\n",
      " 'Morning' 'Afternoon' 'Morning' 'Night' 'Afternoon' 'Afternoon'\n",
      " 'Afternoon' 'Morning' 'Morning' 'Morning' 'Afternoon' 'Afternoon' 'Night'\n",
      " 'Afternoon' 'Morning' 'Morning' 'Afternoon' 'Night' 'Afternoon'\n",
      " 'Afternoon' 'Afternoon' 'Morning' 'Morning' 'Morning' 'Afternoon' 'Night'\n",
      " 'Afternoon' 'Afternoon']\n"
     ]
    }
   ],
   "source": [
    "#2\n",
    "import numpy as np \n",
    "np_shifts=np.array(shifts)\n",
    "print(\"Kiểu dữ liệu của np_shifts:\", np_shifts.dtype)\n",
    "print(np_shifts)"
   ]
  },
  {
   "cell_type": "code",
   "execution_count": 4,
   "metadata": {},
   "outputs": [
    {
     "name": "stdout",
     "output_type": "stream",
     "text": [
      "Kiểu dữ liệu của np_efficiency: int32\n",
      "[ 94  97 114 117 117  59 133  71  86 137 120 138 138  62 108 115  89 137\n",
      "  96 138 131  87  75 127 122  59  70 130 119 129  97 114 132 149 138  99\n",
      "  79  69  69  64  89  82 115  59 107  82  81 124  73  85 125 105  78  84\n",
      "  50  50  86 103  55  88  67 129  54  92 108  81  51 115  91 107  85  61\n",
      "  96 132 141  50  64 149 103  62  92 134 125 118  56 118  97  53 126 102\n",
      " 128  65  70 149 108  73 129  63 135  98]\n"
     ]
    }
   ],
   "source": [
    "#3\n",
    "import numpy as np \n",
    "np_efficiency=np.array(efficiency)\n",
    "print(\"Kiểu dữ liệu của np_efficiency:\", np_efficiency.dtype)\n",
    "print(np_efficiency)"
   ]
  },
  {
   "cell_type": "code",
   "execution_count": 5,
   "metadata": {},
   "outputs": [
    {
     "name": "stdout",
     "output_type": "stream",
     "text": [
      "Hiệu suất trung bình ca 'Morning': 96.8529411764706\n"
     ]
    }
   ],
   "source": [
    "#4\n",
    "nhan_vien_ca_sang=np_efficiency[np_shifts=='Morning']\n",
    "hieu_suat_trung_binh_ca_sang=np.mean(nhan_vien_ca_sang)\n",
    "print(\"Hiệu suất trung bình ca 'Morning':\", hieu_suat_trung_binh_ca_sang)"
   ]
  },
  {
   "cell_type": "code",
   "execution_count": 6,
   "metadata": {},
   "outputs": [
    {
     "name": "stdout",
     "output_type": "stream",
     "text": [
      "Hiệu suất trung bình các ca khác: 98.93939393939394\n"
     ]
    }
   ],
   "source": [
    "#5\n",
    "nhan_vien_ca_khac=np_efficiency[np_shifts != 'Morning']\n",
    "hieu_suat_trung_binh_ca_khac=np.mean(nhan_vien_ca_khac)\n",
    "print(\"Hiệu suất trung bình các ca khác:\", hieu_suat_trung_binh_ca_khac)"
   ]
  },
  {
   "cell_type": "code",
   "execution_count": 7,
   "metadata": {},
   "outputs": [
    {
     "name": "stdout",
     "output_type": "stream",
     "text": [
      "[('Afternoon',  94.) ('Afternoon',  97.) ('Afternoon', 114.)\n",
      " ('Morning', 117.) ('Afternoon', 117.) ('Night',  59.) ('Morning', 133.)\n",
      " ('Afternoon',  71.) ('Night',  86.) ('Morning', 137.) ('Night', 120.)\n",
      " ('Morning', 138.) ('Afternoon', 138.) ('Night',  62.) ('Night', 108.)\n",
      " ('Afternoon', 115.) ('Morning',  89.) ('Afternoon', 137.)\n",
      " ('Afternoon',  96.) ('Morning', 138.) ('Night', 131.) ('Night',  87.)\n",
      " ('Night',  75.) ('Night', 127.) ('Afternoon', 122.) ('Night',  59.)\n",
      " ('Night',  70.) ('Night', 130.) ('Night', 119.) ('Night', 129.)\n",
      " ('Morning',  97.) ('Afternoon', 114.) ('Night', 132.) ('Night', 149.)\n",
      " ('Afternoon', 138.) ('Night',  99.) ('Afternoon',  79.) ('Morning',  69.)\n",
      " ('Night',  69.) ('Night',  64.) ('Morning',  89.) ('Night',  82.)\n",
      " ('Morning', 115.) ('Morning',  59.) ('Night', 107.) ('Morning',  82.)\n",
      " ('Night',  81.) ('Night', 124.) ('Night',  73.) ('Morning',  85.)\n",
      " ('Morning', 125.) ('Morning', 105.) ('Afternoon',  78.) ('Night',  84.)\n",
      " ('Morning',  50.) ('Afternoon',  50.) ('Night',  86.) ('Night', 103.)\n",
      " ('Night',  55.) ('Afternoon',  88.) ('Morning',  67.) ('Morning', 129.)\n",
      " ('Morning',  54.) ('Morning',  92.) ('Night', 108.) ('Night',  81.)\n",
      " ('Morning',  51.) ('Morning', 115.) ('Morning',  91.) ('Afternoon', 107.)\n",
      " ('Night',  85.) ('Morning',  61.) ('Morning',  96.) ('Afternoon', 132.)\n",
      " ('Morning', 141.) ('Night',  50.) ('Afternoon',  64.) ('Afternoon', 149.)\n",
      " ('Afternoon', 103.) ('Morning',  62.) ('Morning',  92.) ('Morning', 134.)\n",
      " ('Afternoon', 125.) ('Afternoon', 118.) ('Night',  56.)\n",
      " ('Afternoon', 118.) ('Morning',  97.) ('Morning',  53.)\n",
      " ('Afternoon', 126.) ('Night', 102.) ('Afternoon', 128.)\n",
      " ('Afternoon',  65.) ('Afternoon',  70.) ('Morning', 149.)\n",
      " ('Morning', 108.) ('Morning',  73.) ('Afternoon', 129.) ('Night',  63.)\n",
      " ('Afternoon', 135.) ('Afternoon',  98.)]\n"
     ]
    }
   ],
   "source": [
    "#6\n",
    "workers_dtype=np.dtype([('shifts', 'U10'), ('efficiency', 'float')])\n",
    "cong_nhan=np.array(list(zip(shifts, efficiency)), dtype=workers_dtype)\n",
    "print(cong_nhan)"
   ]
  },
  {
   "cell_type": "code",
   "execution_count": 8,
   "metadata": {},
   "outputs": [
    {
     "name": "stdout",
     "output_type": "stream",
     "text": [
      "Ca làm việc có hiệu suất cao nhất:  Night\n",
      "Ca làm việc có hiệu suất thâp nhất:  Afternoon\n"
     ]
    }
   ],
   "source": [
    "#7\n",
    "import numpy as np \n",
    "sap_xep_cong_nhan=np.sort(cong_nhan, order='efficiency')\n",
    "ca_hieu_suat_cao_nhat=sap_xep_cong_nhan[-1]['shifts']\n",
    "ca_hieu_suat_thap_nhat=sap_xep_cong_nhan[0]['shifts']\n",
    "print(\"Ca làm việc có hiệu suất cao nhất: \", ca_hieu_suat_cao_nhat)\n",
    "print(\"Ca làm việc có hiệu suất thâp nhất: \", ca_hieu_suat_thap_nhat)"
   ]
  }
 ],
 "metadata": {
  "kernelspec": {
   "display_name": "Python 3",
   "language": "python",
   "name": "python3"
  },
  "language_info": {
   "codemirror_mode": {
    "name": "ipython",
    "version": 3
   },
   "file_extension": ".py",
   "mimetype": "text/x-python",
   "name": "python",
   "nbconvert_exporter": "python",
   "pygments_lexer": "ipython3",
   "version": "3.6.8rc1"
  }
 },
 "nbformat": 4,
 "nbformat_minor": 2
}
