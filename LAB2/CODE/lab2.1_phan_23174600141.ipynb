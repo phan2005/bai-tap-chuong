{
 "cells": [
  {
   "cell_type": "code",
   "execution_count": 10,
   "metadata": {},
   "outputs": [
    {
     "name": "stdout",
     "output_type": "stream",
     "text": [
      "Nhiet do hang ngay trong thang:  [16.12 25.19 27.08 32.08 34.78 31.24 23.97 18.79 23.93 23.14 31.27 22.79\n",
      " 19.86 24.94 23.99 29.08 31.66 18.35 18.73 21.18 21.26 21.21 23.37 33.68\n",
      " 15.26 18.78 31.05 34.56 31.84 33.62]\n",
      "Nhiet do trung binh trong thang:  25.426666666666666\n"
     ]
    }
   ],
   "source": [
    "#1\n",
    "import numpy as np \n",
    "np.random\n",
    "nhiet_do=np.round(np.random.uniform(15, 35, 30), 2)\n",
    "nhiet_do_trung_binh=np.mean(nhiet_do)\n",
    "print(\"Nhiet do hang ngay trong thang: \", nhiet_do)\n",
    "print(\"Nhiet do trung binh trong thang: \", nhiet_do_trung_binh)"
   ]
  },
  {
   "cell_type": "code",
   "execution_count": 6,
   "metadata": {},
   "outputs": [
    {
     "name": "stdout",
     "output_type": "stream",
     "text": [
      "Nhiet do ngay cao nhat trong thang la:  29.37\n",
      "Nhiet do ngay thap nhat trong thang la:  10.58\n",
      "Nhay co nhiet do cao nhat trong thang la:  6\n",
      "Ngay co nhiet do thap nhat trong thang la:  8\n",
      "chênh lệch nhiệt độ cao nhất là: -10.69\n",
      "Ngày chênh lệch cao nhất 15\n"
     ]
    }
   ],
   "source": [
    "#2\n",
    "import numpy as np\n",
    "max_temp=np.max(nhiet_do)\n",
    "min_temp=np.min(nhiet_do)\n",
    "day_max_temp=np.argmax(nhiet_do)+1\n",
    "day_min_temp=np.argmin(nhiet_do)+1\n",
    "print(f\"Nhiet do ngay cao nhat trong thang la: \", max_temp)\n",
    "print(f\"Nhiet do ngay thap nhat trong thang la: \", min_temp)\n",
    "print(f\"Nhay co nhiet do cao nhat trong thang la: \", day_max_temp)\n",
    "print(f\"Ngay co nhiet do thap nhat trong thang la: \", day_min_temp)\n",
    "ngay_truoc = nhiet_do[: -1]\n",
    "ngay_sau = nhiet_do[1:]\n",
    "chenh_lech = ngay_sau - ngay_truoc\n",
    "dff_max= np.argmax (np.abs(chenh_lech))\n",
    "max_chenh_lech = chenh_lech[dff_max - 1]\n",
    "print(\"chênh lệch nhiệt độ cao nhất là:\", max_chenh_lech)\n",
    "print( \"Ngày chênh lệch cao nhất\", dff_max)\n",
    "\n"
   ]
  },
  {
   "cell_type": "code",
   "execution_count": 14,
   "metadata": {},
   "outputs": [
    {
     "name": "stdout",
     "output_type": "stream",
     "text": [
      "Các ngày có nhiệt độ cao hơn 20°C: [ 2  3  4  5  6  7  9 10 11 12 14 15 16 17 20 21 22 23 24 27 28 29 30]\n",
      "Nhiệt độ của ngày 5, 10, 15, 20, 25: [34.78 23.14 23.99 21.18 15.26]\n",
      "Nhiệt độ trên trung bình xảy ra vào các ngày: [27.08 32.08 34.78 31.24 31.27 29.08 31.66 33.68 31.05 34.56 31.84 33.62]\n",
      "Nhiệt độ của các ngày lẻ: [16.12 27.08 34.78 23.97 23.93 31.27 19.86 23.99 31.66 18.73 21.26 23.37\n",
      " 15.26 31.05 31.84]\n",
      "Nhiệt độ của các ngày chẵn: [25.19 32.08 31.24 18.79 23.14 22.79 24.94 29.08 18.35 21.18 21.21 33.68\n",
      " 18.78 34.56 33.62]\n"
     ]
    }
   ],
   "source": [
    "#3\n",
    "ngay_tren_20=np.where(nhiet_do>20)[0]+1\n",
    "nhiet_do_hon_20=nhiet_do[nhiet_do>20]\n",
    "cac_ngay=[5, 10, 15, 20, 25]\n",
    "nhiet_do_cac_ngay=nhiet_do[np.array(cac_ngay)-1]\n",
    "ngay_tren_trung_binh=np.where(nhiet_do>nhiet_do_trung_binh)[0]+1\n",
    "nhiet_do_tren_trung_binh=nhiet_do[nhiet_do>nhiet_do_trung_binh]\n",
    "ngay_le=np.arange(1, 31, 2)\n",
    "ngay_chan=np.arange(2, 31, 2)\n",
    "nhiet_do_ngay_le=nhiet_do[ngay_le-1]\n",
    "nhiet_do_ngay_chan=nhiet_do[ngay_chan-1]\n",
    "print(f\"Các ngày có nhiệt độ cao hơn 20°C: {ngay_tren_20}\")\n",
    "print(f\"Nhiệt độ của ngày 5, 10, 15, 20, 25: {nhiet_do_cac_ngay}\")\n",
    "print(f\"Nhiệt độ trên trung bình xảy ra vào các ngày: {nhiet_do_tren_trung_binh}\")\n",
    "print(f\"Nhiệt độ của các ngày lẻ: {nhiet_do_ngay_le}\")\n",
    "print(f\"Nhiệt độ của các ngày chẵn: {nhiet_do_ngay_chan}\")\n"
   ]
  }
 ],
 "metadata": {
  "kernelspec": {
   "display_name": "Python 3",
   "language": "python",
   "name": "python3"
  },
  "language_info": {
   "codemirror_mode": {
    "name": "ipython",
    "version": 3
   },
   "file_extension": ".py",
   "mimetype": "text/x-python",
   "name": "python",
   "nbconvert_exporter": "python",
   "pygments_lexer": "ipython3",
   "version": "3.6.8"
  }
 },
 "nbformat": 4,
 "nbformat_minor": 2
}
